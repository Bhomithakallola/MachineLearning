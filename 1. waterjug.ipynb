{
 "cells": [
  {
   "cell_type": "code",
   "execution_count": 11,
   "id": "b22067f8-42ce-42cc-8389-54939fcd5fa4",
   "metadata": {},
   "outputs": [
    {
     "name": "stdout",
     "output_type": "stream",
     "text": [
      " JUG A     JUG B\n",
      "   0         0\n",
      "   4         0\n",
      "   1         3\n",
      "   1         0\n",
      "   0         1\n",
      "   4         1\n",
      "   2         3\n"
     ]
    }
   ],
   "source": [
    "def pour_water(juga, jugb):\n",
    "\tmax1,max2,fill = 4,3,2\n",
    "\tprint(\"   %d         %d\" %(juga, jugb))\n",
    "\tif juga == fill or jugb == fill:\n",
    "\t\treturn \n",
    "\telif juga == 0:\n",
    "\t\tpour_water(max1, jugb)\n",
    "\telif jugb == max2:\n",
    "\t\tpour_water(juga,0)\n",
    "\telif juga!=0 and jugb!=max2:\n",
    "\t\ttransfer = min(juga,max2 - jugb)\n",
    "\t\tpour_water(juga-transfer, jugb + transfer)\n",
    "\telse:\n",
    "\t\tpour_water(0,juga)\n",
    "print(\" JUG A     JUG B\")\n",
    "pour_water(0,0)"
   ]
  },
  {
   "cell_type": "code",
   "execution_count": null,
   "id": "16ce8770-845b-42f7-bea4-b4981815c657",
   "metadata": {},
   "outputs": [],
   "source": []
  }
 ],
 "metadata": {
  "kernelspec": {
   "display_name": "Python 3 (ipykernel)",
   "language": "python",
   "name": "python3"
  },
  "language_info": {
   "codemirror_mode": {
    "name": "ipython",
    "version": 3
   },
   "file_extension": ".py",
   "mimetype": "text/x-python",
   "name": "python",
   "nbconvert_exporter": "python",
   "pygments_lexer": "ipython3",
   "version": "3.10.0"
  }
 },
 "nbformat": 4,
 "nbformat_minor": 5
}
